{
 "cells": [
  {
   "cell_type": "code",
   "execution_count": 1,
   "metadata": {
    "ExecuteTime": {
     "end_time": "2023-07-15T09:59:00.984935600Z",
     "start_time": "2023-07-15T09:59:00.972353200Z"
    }
   },
   "outputs": [],
   "source": [
    "import pandas as pd\n",
    "import seaborn as sns\n",
    "import numpy as np\n",
    "import matplotlib.pyplot as plt"
   ]
  },
  {
   "cell_type": "code",
   "execution_count": 2,
   "metadata": {
    "ExecuteTime": {
     "end_time": "2023-07-15T10:04:32.399681100Z",
     "start_time": "2023-07-15T10:04:31.942924400Z"
    }
   },
   "outputs": [
    {
     "data": {
      "text/html": [
       "<div>\n",
       "<style scoped>\n",
       "    .dataframe tbody tr th:only-of-type {\n",
       "        vertical-align: middle;\n",
       "    }\n",
       "\n",
       "    .dataframe tbody tr th {\n",
       "        vertical-align: top;\n",
       "    }\n",
       "\n",
       "    .dataframe thead th {\n",
       "        text-align: right;\n",
       "    }\n",
       "</style>\n",
       "<table border=\"1\" class=\"dataframe\">\n",
       "  <thead>\n",
       "    <tr style=\"text-align: right;\">\n",
       "      <th></th>\n",
       "      <th>Pregnancies</th>\n",
       "      <th>Glucose</th>\n",
       "      <th>BloodPressure</th>\n",
       "      <th>BMI</th>\n",
       "      <th>DiabetesPedigreeFunction</th>\n",
       "      <th>Age</th>\n",
       "      <th>Outcome</th>\n",
       "    </tr>\n",
       "  </thead>\n",
       "  <tbody>\n",
       "    <tr>\n",
       "      <th>0</th>\n",
       "      <td>6</td>\n",
       "      <td>148</td>\n",
       "      <td>72</td>\n",
       "      <td>33.6</td>\n",
       "      <td>0.627</td>\n",
       "      <td>50</td>\n",
       "      <td>1</td>\n",
       "    </tr>\n",
       "    <tr>\n",
       "      <th>1</th>\n",
       "      <td>1</td>\n",
       "      <td>85</td>\n",
       "      <td>66</td>\n",
       "      <td>26.6</td>\n",
       "      <td>0.351</td>\n",
       "      <td>31</td>\n",
       "      <td>0</td>\n",
       "    </tr>\n",
       "    <tr>\n",
       "      <th>2</th>\n",
       "      <td>8</td>\n",
       "      <td>183</td>\n",
       "      <td>64</td>\n",
       "      <td>23.3</td>\n",
       "      <td>0.672</td>\n",
       "      <td>32</td>\n",
       "      <td>1</td>\n",
       "    </tr>\n",
       "    <tr>\n",
       "      <th>3</th>\n",
       "      <td>1</td>\n",
       "      <td>89</td>\n",
       "      <td>66</td>\n",
       "      <td>28.1</td>\n",
       "      <td>0.167</td>\n",
       "      <td>21</td>\n",
       "      <td>0</td>\n",
       "    </tr>\n",
       "    <tr>\n",
       "      <th>4</th>\n",
       "      <td>0</td>\n",
       "      <td>137</td>\n",
       "      <td>40</td>\n",
       "      <td>43.1</td>\n",
       "      <td>2.288</td>\n",
       "      <td>33</td>\n",
       "      <td>1</td>\n",
       "    </tr>\n",
       "  </tbody>\n",
       "</table>\n",
       "</div>"
      ],
      "text/plain": [
       "   Pregnancies  Glucose  BloodPressure   BMI  DiabetesPedigreeFunction  Age  \\\n",
       "0            6      148             72  33.6                     0.627   50   \n",
       "1            1       85             66  26.6                     0.351   31   \n",
       "2            8      183             64  23.3                     0.672   32   \n",
       "3            1       89             66  28.1                     0.167   21   \n",
       "4            0      137             40  43.1                     2.288   33   \n",
       "\n",
       "   Outcome  \n",
       "0        1  \n",
       "1        0  \n",
       "2        1  \n",
       "3        0  \n",
       "4        1  "
      ]
     },
     "execution_count": 2,
     "metadata": {},
     "output_type": "execute_result"
    }
   ],
   "source": [
    "data = pd.read_csv('Dataset_Day12.csv')\n",
    "data.head()"
   ]
  },
  {
   "cell_type": "code",
   "execution_count": 3,
   "metadata": {
    "ExecuteTime": {
     "end_time": "2023-07-15T10:06:52.274598500Z",
     "start_time": "2023-07-15T10:06:52.248669Z"
    }
   },
   "outputs": [
    {
     "data": {
      "text/plain": [
       "Pregnancies                  0\n",
       "Glucose                      5\n",
       "BloodPressure               35\n",
       "BMI                         11\n",
       "DiabetesPedigreeFunction     0\n",
       "Age                          0\n",
       "Outcome                      0\n",
       "dtype: int64"
      ]
     },
     "execution_count": 3,
     "metadata": {},
     "output_type": "execute_result"
    }
   ],
   "source": [
    "colums=['Glucose','BloodPressure','BMI','DiabetesPedigreeFunction']\n",
    "data[colums] = data[colums].replace(0,float('NaN'))\n",
    "data.isna().sum()"
   ]
  },
  {
   "cell_type": "code",
   "execution_count": 4,
   "metadata": {
    "ExecuteTime": {
     "end_time": "2023-07-15T10:07:39.690887200Z",
     "start_time": "2023-07-15T10:07:39.569212500Z"
    }
   },
   "outputs": [],
   "source": [
    "data['Glucose'].fillna(data['Glucose'].median(),inplace = True)\n",
    "data['BloodPressure'].fillna(data['BloodPressure'].mean(),inplace=True)\n",
    "data['BMI'].fillna(data['BMI'].median(),inplace=True)"
   ]
  },
  {
   "cell_type": "code",
   "execution_count": 5,
   "metadata": {
    "ExecuteTime": {
     "end_time": "2023-07-15T10:07:49.514735700Z",
     "start_time": "2023-07-15T10:07:49.475199100Z"
    }
   },
   "outputs": [
    {
     "data": {
      "text/plain": [
       "Pregnancies                 0\n",
       "Glucose                     0\n",
       "BloodPressure               0\n",
       "BMI                         0\n",
       "DiabetesPedigreeFunction    0\n",
       "Age                         0\n",
       "Outcome                     0\n",
       "dtype: int64"
      ]
     },
     "execution_count": 5,
     "metadata": {},
     "output_type": "execute_result"
    }
   ],
   "source": [
    "data.isna().sum()"
   ]
  },
  {
   "cell_type": "code",
   "execution_count": 6,
   "metadata": {
    "ExecuteTime": {
     "end_time": "2023-07-15T10:09:31.690204400Z",
     "start_time": "2023-07-15T10:09:31.618113500Z"
    }
   },
   "outputs": [],
   "source": [
    "#2.\tThen remove all existing outliers and get the final data for classification.\n",
    "\n",
    "Q1 = data.quantile(0.25)\n",
    "Q3 = data.quantile(0.75)\n",
    "IQR = Q3 - Q1\n",
    "data = data[~((data < (Q1 - 1.5 * IQR)) | (data > (Q3 + 1.5 * IQR))).any(axis=1)]"
   ]
  },
  {
   "cell_type": "code",
   "execution_count": 7,
   "metadata": {
    "ExecuteTime": {
     "end_time": "2023-07-15T10:12:38.359457800Z",
     "start_time": "2023-07-15T10:12:38.279666100Z"
    }
   },
   "outputs": [
    {
     "data": {
      "text/plain": [
       "(565, 142)"
      ]
     },
     "execution_count": 7,
     "metadata": {},
     "output_type": "execute_result"
    }
   ],
   "source": [
    "# 3.\tSplit the data into 80% training and 20% testing data. Use target variable as ‘Outcome’.\n",
    "# a.\tUse Naïve Bayes Classifier algorithm to classify Outcome and print the default model performance metrics: Accuracy, Precision, Recall, F1Score.\n",
    "\n",
    "\n",
    "X = data.drop('Outcome',axis=1)\n",
    "Y = data['Outcome']\n",
    "\n",
    "from sklearn.model_selection import train_test_split\n",
    "\n",
    "X_train,X_test,y_train,y_test = train_test_split(X,Y,random_state=1234,test_size=0.2)\n",
    "len(X_train),len(X_test)"
   ]
  },
  {
   "cell_type": "code",
   "execution_count": 8,
   "metadata": {
    "ExecuteTime": {
     "end_time": "2023-07-15T10:18:00.987454700Z",
     "start_time": "2023-07-15T10:18:00.787364900Z"
    }
   },
   "outputs": [
    {
     "name": "stdout",
     "output_type": "stream",
     "text": [
      "The F1 score of Naive Bayes: 0.6601941747572816\n",
      "The Accuracy of Naive Bayes: 0.7535211267605634\n",
      "The Recall: 0.6415094339622641\n",
      "The precisssion: 0.68\n"
     ]
    }
   ],
   "source": [
    "from sklearn.metrics import accuracy_score, precision_score, recall_score, f1_score\n",
    "\n",
    "from sklearn.naive_bayes import GaussianNB\n",
    "\n",
    "nb = GaussianNB()\n",
    "nb.fit(X_train,y_train)\n",
    "\n",
    "y_pred = nb.predict(X_test)\n",
    "\n",
    "print(\"The F1 score of Naive Bayes: {}\".format(f1_score(y_test,y_pred)))\n",
    "print(\"The Accuracy of Naive Bayes: {}\".format(accuracy_score(y_test,y_pred)))\n",
    "print(\"The Recall: {}\".format(recall_score(y_test,y_pred)))\n",
    "print(\"The precisssion: {}\".format(precision_score(y_test,y_pred)))"
   ]
  },
  {
   "cell_type": "code",
   "execution_count": 9,
   "metadata": {
    "ExecuteTime": {
     "end_time": "2023-07-15T10:21:01.700393700Z",
     "start_time": "2023-07-15T10:21:01.615115300Z"
    }
   },
   "outputs": [
    {
     "name": "stdout",
     "output_type": "stream",
     "text": [
      "Cross-validated F1-Scores: [0.59340659 0.5106383  0.65217391 0.68041237 0.65934066]\n",
      "Mean F1-Score: 0.6191943669594184\n",
      "Standard Deviation of F1-Scores: 0.06147592811408799\n"
     ]
    }
   ],
   "source": [
    "# b.\tUse k-Fold Cross Validation to find the best model performance metrics .\n",
    "\n",
    "from sklearn.model_selection import cross_val_score\n",
    "\n",
    "cv_scores = cross_val_score(nb, X, Y, cv=5, scoring='f1')\n",
    "\n",
    "print(\"Cross-validated F1-Scores:\", cv_scores)\n",
    "print(\"Mean F1-Score:\", cv_scores.mean())\n",
    "print(\"Standard Deviation of F1-Scores:\", cv_scores.std())\n"
   ]
  },
  {
   "cell_type": "code",
   "execution_count": 10,
   "metadata": {
    "ExecuteTime": {
     "end_time": "2023-07-15T10:29:41.106438400Z",
     "start_time": "2023-07-15T10:29:37.126537500Z"
    }
   },
   "outputs": [
    {
     "name": "stdout",
     "output_type": "stream",
     "text": [
      "The estimator in Ada Boost: 13\n",
      "The maximum f1 score: 0.7142857142857142\n"
     ]
    },
    {
     "data": {
      "image/png": "[encoded data removed]",
      "text/plain": [
       "<Figure size 640x480 with 1 Axes>"
      ]
     },
     "metadata": {},
     "output_type": "display_data"
    }
   ],
   "source": [
    "# c.\tTry out Adaboost algorithm for Naïve Bayes Classifier improvement. [Optional]\n",
    "\n",
    "from sklearn.ensemble import AdaBoostClassifier\n",
    "\n",
    "estimator_range = np.arange(1,25)\n",
    "\n",
    "scores = []\n",
    "\n",
    "for i in estimator_range:\n",
    "    abc = AdaBoostClassifier(n_estimators=i)\n",
    "    abc.fit(X_train,y_train)\n",
    "    y_pred = abc.predict(X_test)\n",
    "\n",
    "    scores.append(f1_score(y_test,y_pred))\n",
    "\n",
    "plt.plot(estimator_range,scores)\n",
    "plt.xlabel(\"No. of estimators/trees\")\n",
    "plt.ylabel(\"F1-Score\")\n",
    "plt.title(\"AdaBoost Classifier: F1 Score vs no. of estimators\")\n",
    "\n",
    "max_f1_index = np.argmax(scores)\n",
    "estimator = estimator_range[max_f1_index]\n",
    "print(\"The estimator in Ada Boost: {}\".format(estimator))\n",
    "print(\"The maximum f1 score: {}\".format(np.max(scores)))"
   ]
  },
  {
   "cell_type": "code",
   "execution_count": null,
   "metadata": {
    "ExecuteTime": {
     "end_time": "2023-07-17T14:01:32.811922300Z",
     "start_time": "2023-07-17T14:01:32.780007400Z"
    }
   },
   "outputs": [],
   "source": []
  },
  {
   "cell_type": "code",
   "execution_count": null,
   "metadata": {},
   "outputs": [],
   "source": []
  }
 ],
 "metadata": {
  "kernelspec": {
   "display_name": "Python 3 (ipykernel)",
   "language": "python",
   "name": "python3"
  },
  "language_info": {
   "codemirror_mode": {
    "name": "ipython",
    "version": 3
   },
   "file_extension": ".py",
   "mimetype": "text/x-python",
   "name": "python",
   "nbconvert_exporter": "python",
   "pygments_lexer": "ipython3",
   "version": "3.10.0"
  }
 },
 "nbformat": 4,
 "nbformat_minor": 1
}

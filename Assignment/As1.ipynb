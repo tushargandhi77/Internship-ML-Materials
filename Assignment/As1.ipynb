{
 "cells": [
  {
   "cell_type": "code",
   "execution_count": 1,
   "metadata": {
    "collapsed": true,
    "ExecuteTime": {
     "end_time": "2023-07-04T07:28:35.263272700Z",
     "start_time": "2023-07-04T07:28:31.583937900Z"
    }
   },
   "outputs": [
    {
     "name": "stdout",
     "output_type": "stream",
     "text": [
      "4 is not the prime number\n"
     ]
    }
   ],
   "source": [
    "\n",
    "x = int(input('Enter the number'))\n",
    "count = 2\n",
    "for i in range(2,x):\n",
    "    if x%i==0:\n",
    "        count=count+1;\n",
    "\n",
    "if count==2:\n",
    "    print(f'{x} is the prime number')\n",
    "else:\n",
    "    print(f'{x} is not the prime number')"
   ]
  },
  {
   "cell_type": "code",
   "execution_count": 12,
   "outputs": [
    {
     "name": "stdout",
     "output_type": "stream",
     "text": [
      "The factorial of 7 is 5040\n"
     ]
    }
   ],
   "source": [
    "x=int(input('Enter the number in between 1 to 50'))\n",
    "fact=1\n",
    "for i in range(1,x+1):\n",
    "    fact=fact*i\n",
    "print(f'The factorial of {x} is {fact}')"
   ],
   "metadata": {
    "collapsed": false,
    "ExecuteTime": {
     "end_time": "2023-07-03T08:02:18.988350600Z",
     "start_time": "2023-07-03T08:02:15.517829700Z"
    }
   }
  },
  {
   "cell_type": "code",
   "execution_count": 26,
   "outputs": [
    {
     "name": "stdout",
     "output_type": "stream",
     "text": [
      "Agartala:1\n",
      "Ahmedabad:43\n",
      "AJMER:2\n",
      "ALIGARH:4\n",
      "AMBALA:11\n",
      "AMRITSAR:39\n",
      "BAGHPAT:1\n",
      "Bangalore:37\n",
      "Bhopal:26\n",
      "Bhubaneswar:13\n",
      "Chandigarh:29\n",
      "Chennai:36\n",
      "Dehradun:17\n",
      "Delhi and NCR:432\n",
      "GUNTUR:4\n",
      "Guwahati:5\n",
      "Hyderabad:83\n",
      "INDORE:4\n",
      "Jabalpur:38\n",
      "Jaipur:74\n",
      "JALANDHAR:29\n",
      "JAMMU:2\n",
      "JODHPUR:12\n",
      "Kanpur:46\n",
      "Kolkata:39\n",
      "KOTA:2\n",
      "Lucknow:39\n",
      "Meerut:45\n",
      "MORADABAD:7\n",
      "Mumbai:70\n",
      "Nagpur:88\n",
      "NELLORE:4\n",
      "Patna:35\n",
      "PONDICHERRY:5\n",
      "Prayagraj:34\n",
      "Pune:65\n",
      "RAIPUR:6\n",
      "Ranchi:12\n",
      "SAHARANPUR:1\n",
      "Shillong:2\n",
      "SILIGURI:3\n",
      "TRICHY:1\n",
      "VADODARA:6\n",
      "VARANASI:18\n",
      "VIJYAWADA:1\n",
      "Visakhapatnam:28\n"
     ]
    }
   ],
   "source": [
    "\n",
    "import pandas\n",
    "import operator\n",
    "\n",
    "data = pandas.read_csv(\"Dataset_Day1.csv\")\n",
    "\n",
    "city = data['cityName'].tolist()\n",
    "hospital = data['hospitalName'].tolist()\n",
    "address = data['hospitalAddress'].tolist()\n",
    "\n",
    "freq = {}\n",
    "for i in city:\n",
    "    freq[i] = operator.countOf(city,i)\n",
    "for c,s in freq.items():\n",
    "    print(f'{c}:{s}')\n"
   ],
   "metadata": {
    "collapsed": false,
    "ExecuteTime": {
     "end_time": "2023-07-03T08:47:35.563915900Z",
     "start_time": "2023-07-03T08:47:35.502221400Z"
    }
   }
  },
  {
   "cell_type": "code",
   "execution_count": 1,
   "outputs": [
    {
     "name": "stdout",
     "output_type": "stream",
     "text": [
      "{'Agartala': 1, 'Ahmedabad': 43, 'AJMER': 2, 'ALIGARH': 4, 'AMBALA': 11, 'AMRITSAR': 39, 'BAGHPAT': 1, 'Bangalore': 37, 'Bhopal': 26, 'Bhubaneswar': 13, 'Chandigarh': 29, 'Chennai': 36, 'Dehradun': 17, 'Delhi and NCR': 432, 'GUNTUR': 4, 'Guwahati': 5, 'Hyderabad': 83, 'INDORE': 4, 'Jabalpur': 38, 'Jaipur': 74, 'JALANDHAR': 29, 'JAMMU': 2, 'JODHPUR': 12, 'Kanpur': 46, 'Kolkata': 39, 'KOTA': 2, 'Lucknow': 39, 'Meerut': 45, 'MORADABAD': 7, 'Mumbai': 70, 'Nagpur': 88, 'NELLORE': 4, 'Patna': 35, 'PONDICHERRY': 5, 'Prayagraj': 34, 'Pune': 65, 'RAIPUR': 6, 'Ranchi': 12, 'SAHARANPUR': 1, 'Shillong': 2, 'SILIGURI': 3, 'TRICHY': 1, 'VADODARA': 6, 'VARANASI': 18, 'VIJYAWADA': 1, 'Visakhapatnam': 28}\n"
     ]
    }
   ],
   "source": [
    "import csv\n",
    "\n",
    "def count_city_occurrences(csv_file):\n",
    "    city_count = {}\n",
    "\n",
    "    with open('Dataset_Day1.csv','r') as file:\n",
    "        reader = csv.reader(file)\n",
    "        header = next(reader)\n",
    "\n",
    "        for row in reader:\n",
    "            city = row[0]\n",
    "            if city in city_count:\n",
    "                city_count[city] += 1\n",
    "            else:\n",
    "                city_count[city] = 1\n",
    "\n",
    "    return city_count\n",
    "\n",
    "\n",
    "csv_file_path = 'data.csv'\n",
    "city_occurrences = count_city_occurrences(csv_file_path)\n",
    "\n",
    "print(city_occurrences)"
   ],
   "metadata": {
    "collapsed": false,
    "ExecuteTime": {
     "end_time": "2023-07-03T09:10:21.012215400Z",
     "start_time": "2023-07-03T09:10:20.969331400Z"
    }
   }
  },
  {
   "cell_type": "code",
   "execution_count": 2,
   "outputs": [
    {
     "name": "stdout",
     "output_type": "stream",
     "text": [
      "set()\n"
     ]
    }
   ],
   "source": [
    "import csv\n",
    "\n",
    "def find_cities_with_apollo_hospitals(csv_file):\n",
    "    cities_with_apollo = set()  # Set to store cities with at least one Apollo hospital\n",
    "\n",
    "    with open('Dataset_Day1.csv','r') as file:\n",
    "        reader = csv.reader(file)\n",
    "        header = next(reader)  # Skip the header row if present\n",
    "\n",
    "        for row in reader:\n",
    "            city = row[0]  # Assuming city name is in the first column (index 0)\n",
    "            is_apollo = row[1]  # Assuming Apollo hospital indicator is in the second column (index 1)\n",
    "\n",
    "            if is_apollo == 'Yes':\n",
    "                cities_with_apollo.add(city)\n",
    "\n",
    "    return cities_with_apollo\n",
    "\n",
    "# Replace 'hospitals.csv' with the actual name of your CSV file\n",
    "csv_file_path = 'hospitals.csv'\n",
    "cities_with_apollo = find_cities_with_apollo_hospitals(csv_file_path)\n",
    "\n",
    "# Print the set of cities with at least one Apollo hospital\n",
    "print(cities_with_apollo)"
   ],
   "metadata": {
    "collapsed": false,
    "ExecuteTime": {
     "end_time": "2023-07-03T09:18:45.101121900Z",
     "start_time": "2023-07-03T09:18:45.030922700Z"
    }
   }
  },
  {
   "cell_type": "code",
   "execution_count": null,
   "outputs": [],
   "source": [],
   "metadata": {
    "collapsed": false
   }
  }
 ],
 "metadata": {
  "kernelspec": {
   "display_name": "Python 3",
   "language": "python",
   "name": "python3"
  },
  "language_info": {
   "codemirror_mode": {
    "name": "ipython",
    "version": 2
   },
   "file_extension": ".py",
   "mimetype": "text/x-python",
   "name": "python",
   "nbconvert_exporter": "python",
   "pygments_lexer": "ipython2",
   "version": "2.7.6"
  }
 },
 "nbformat": 4,
 "nbformat_minor": 0
}

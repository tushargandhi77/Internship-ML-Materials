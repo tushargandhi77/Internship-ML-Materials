{
 "cells": [
  {
   "cell_type": "code",
   "execution_count": 2,
   "metadata": {
    "ExecuteTime": {
     "end_time": "2023-07-04T10:31:21.563011900Z",
     "start_time": "2023-07-04T10:31:14.729888100Z"
    }
   },
   "outputs": [
    {
     "name": "stdout",
     "output_type": "stream",
     "text": [
      "Unique  name: ['100% Bran' '100% Natural Bran' 'All-Bran' 'All-Bran with Extra Fiber'\n",
      " 'Almond Delight' 'Apple Cinnamon Cheerios' 'Apple Jacks' 'Basic 4'\n",
      " 'Bran Chex' 'Bran Flakes' \"Cap'n'Crunch\" 'Cheerios'\n",
      " 'Cinnamon Toast Crunch' 'Clusters' 'Cocoa Puffs' 'Corn Chex'\n",
      " 'Corn Flakes' 'Corn Pops' 'Count Chocula' \"Cracklin' Oat Bran\"\n",
      " 'Cream of Wheat (Quick)' 'Crispix' 'Crispy Wheat & Raisins' 'Double Chex'\n",
      " 'Froot Loops' 'Frosted Flakes' 'Frosted Mini-Wheats'\n",
      " 'Fruit & Fibre Dates; Walnuts; and Oats' 'Fruitful Bran' 'Fruity Pebbles'\n",
      " 'Golden Crisp' 'Golden Grahams' 'Grape Nuts Flakes' 'Grape-Nuts'\n",
      " 'Great Grains Pecan' 'Honey Graham Ohs' 'Honey Nut Cheerios' 'Honey-comb'\n",
      " 'Just Right Crunchy  Nuggets' 'Just Right Fruit & Nut' 'Kix' 'Life'\n",
      " 'Lucky Charms' 'Maypo' 'Muesli Raisins; Dates; & Almonds'\n",
      " 'Muesli Raisins; Peaches; & Pecans' 'Mueslix Crispy Blend'\n",
      " 'Multi-Grain Cheerios' 'Nut&Honey Crunch' 'Nutri-Grain Almond-Raisin'\n",
      " 'Nutri-grain Wheat' 'Oatmeal Raisin Crisp' 'Post Nat. Raisin Bran'\n",
      " 'Product 19' 'Puffed Rice' 'Puffed Wheat' 'Quaker Oat Squares'\n",
      " 'Quaker Oatmeal' 'Raisin Bran' 'Raisin Nut Bran' 'Raisin Squares'\n",
      " 'Rice Chex' 'Rice Krispies' 'Shredded Wheat' \"Shredded Wheat 'n'Bran\"\n",
      " 'Shredded Wheat spoon size' 'Smacks' 'Special K'\n",
      " 'Strawberry Fruit Wheats' 'Total Corn Flakes' 'Total Raisin Bran'\n",
      " 'Total Whole Grain' 'Triples' 'Trix' 'Wheat Chex' 'Wheaties'\n",
      " 'Wheaties Honey Gold']\n",
      "unique  mfr:  ['N' 'Q' 'K' 'R' 'G' 'P' 'A']\n",
      "Unique  vitamins:  [ 25   0 100]\n"
     ]
    }
   ],
   "source": [
    "#1.\tFind all unique values of columns: “name”, “mfr”, “vitamins”\n",
    "#and store them in separate numpy arrays.\n",
    "\n",
    "\n",
    "import pandas as pd\n",
    "import numpy as np\n",
    "\n",
    "d = pd.read_csv('Dataset_Day2.csv')\n",
    "names = np.array(d['name'].unique())\n",
    "mfrs = np.array(d['mfr'].unique())\n",
    "vitamin = np.array(d['vitamins'].unique())\n",
    "\n",
    "print('Unique  name:',names)\n",
    "print('unique  mfr: ',mfrs)\n",
    "print('Unique  vitamins: ',vitamin)"
   ]
  },
  {
   "cell_type": "code",
   "execution_count": 3,
   "metadata": {
    "ExecuteTime": {
     "end_time": "2023-07-04T08:01:58.364295100Z",
     "start_time": "2023-07-04T08:01:58.318513800Z"
    }
   },
   "outputs": [
    {
     "name": "stdout",
     "output_type": "stream",
     "text": [
      "                           name mfr type  calories  protein  fat  sodium  \\\n",
      "4                Almond Delight   R    C       110        2    2     200   \n",
      "5       Apple Cinnamon Cheerios   G    C       110        2    2     180   \n",
      "6                   Apple Jacks   K    C       110        2    0     125   \n",
      "8                     Bran Chex   R    C        90        2    1     200   \n",
      "10                 Cap'n'Crunch   Q    C       120        1    2     220   \n",
      "12        Cinnamon Toast Crunch   G    C       120        1    3     210   \n",
      "14                  Cocoa Puffs   G    C       110        1    1     180   \n",
      "15                    Corn Chex   R    C       110        2    0     280   \n",
      "16                  Corn Flakes   K    C       100        2    0     290   \n",
      "18                Count Chocula   G    C       110        1    1     180   \n",
      "21                      Crispix   K    C       110        2    0     220   \n",
      "22       Crispy Wheat & Raisins   G    C       100        2    1     140   \n",
      "23                  Double Chex   R    C       100        2    0     190   \n",
      "24                  Froot Loops   K    C       110        2    1     125   \n",
      "25               Frosted Flakes   K    C       110        1    0     200   \n",
      "29               Fruity Pebbles   P    C       110        1    1     135   \n",
      "31               Golden Grahams   G    C       110        1    1     280   \n",
      "35             Honey Graham Ohs   Q    C       120        1    2     220   \n",
      "37                   Honey-comb   P    C       110        1    0     180   \n",
      "38  Just Right Crunchy  Nuggets   K    C       110        2    1     170   \n",
      "40                          Kix   G    C       110        2    1     260   \n",
      "42                 Lucky Charms   G    C       110        2    1     180   \n",
      "47         Multi-Grain Cheerios   G    C       100        2    1     220   \n",
      "48             Nut&Honey Crunch   K    C       120        2    1     190   \n",
      "61                    Rice Chex   R    C       110        1    0     240   \n",
      "62                Rice Krispies   K    C       110        2    0     290   \n",
      "69            Total Corn Flakes   G    C       110        2    1     200   \n",
      "72                      Triples   G    C       110        2    1     250   \n",
      "73                         Trix   G    C       110        1    1     140   \n",
      "76          Wheaties Honey Gold   G    C       110        2    1     200   \n",
      "\n",
      "    fiber  carbo  sugars  potass  vitamins  shelf  weight  cups     rating  \n",
      "4     1.0   14.0       8      -1        25      3     1.0  0.75  34.384843  \n",
      "5     1.5   10.5      10      70        25      1     1.0  0.75  29.509541  \n",
      "6     1.0   11.0      14      30        25      2     1.0  1.00  33.174094  \n",
      "8     4.0   15.0       6     125        25      1     1.0  0.67  49.120253  \n",
      "10    0.0   12.0      12      35        25      2     1.0  0.75  18.042851  \n",
      "12    0.0   13.0       9      45        25      2     1.0  0.75  19.823573  \n",
      "14    0.0   12.0      13      55        25      2     1.0  1.00  22.736446  \n",
      "15    0.0   22.0       3      25        25      1     1.0  1.00  41.445019  \n",
      "16    1.0   21.0       2      35        25      1     1.0  1.00  45.863324  \n",
      "18    0.0   12.0      13      65        25      2     1.0  1.00  22.396513  \n",
      "21    1.0   21.0       3      30        25      3     1.0  1.00  46.895644  \n",
      "22    2.0   11.0      10     120        25      3     1.0  0.75  36.176196  \n",
      "23    1.0   18.0       5      80        25      3     1.0  0.75  44.330856  \n",
      "24    1.0   11.0      13      30        25      2     1.0  1.00  32.207582  \n",
      "25    1.0   14.0      11      25        25      1     1.0  0.75  31.435973  \n",
      "29    0.0   13.0      12      25        25      2     1.0  0.75  28.025765  \n",
      "31    0.0   15.0       9      45        25      2     1.0  0.75  23.804043  \n",
      "35    1.0   12.0      11      45        25      2     1.0  1.00  21.871292  \n",
      "37    0.0   14.0      11      35        25      1     1.0  1.33  28.742414  \n",
      "38    1.0   17.0       6      60       100      3     1.0  1.00  36.523683  \n",
      "40    0.0   21.0       3      40        25      2     1.0  1.50  39.241114  \n",
      "42    0.0   12.0      12      55        25      2     1.0  1.00  26.734515  \n",
      "47    2.0   15.0       6      90        25      1     1.0  1.00  40.105965  \n",
      "48    0.0   15.0       9      40        25      2     1.0  0.67  29.924285  \n",
      "61    0.0   23.0       2      30        25      1     1.0  1.13  41.998933  \n",
      "62    0.0   22.0       3      35        25      1     1.0  1.00  40.560159  \n",
      "69    0.0   21.0       3      35       100      3     1.0  1.00  38.839746  \n",
      "72    0.0   21.0       3      60        25      3     1.0  0.75  39.106174  \n",
      "73    0.0   13.0      12      25        25      2     1.0  1.00  27.753301  \n",
      "76    1.0   16.0       8      60        25      1     1.0  0.75  36.187559  \n"
     ]
    }
   ],
   "source": [
    "# 2.\tCreate a new dataframe with all columns for which,\n",
    "# ‘sodium’ is greater than 100 AND ‘protein’ is less than 3\n",
    "# \tName this dataframe:  df_HighSodLowProt\n",
    "\n",
    "import pandas as pd\n",
    "d = pd.read_csv('Dataset_Day2.csv')\n",
    "df_HighSodLowProt = d[(d['sodium']>100)&(d['protein']<3)]\n",
    "print(df_HighSodLowProt)\n"
   ]
  },
  {
   "cell_type": "code",
   "execution_count": 4,
   "metadata": {
    "ExecuteTime": {
     "end_time": "2023-07-04T08:02:00.630172Z",
     "start_time": "2023-07-04T08:02:00.544521800Z"
    }
   },
   "outputs": [
    {
     "name": "stdout",
     "output_type": "stream",
     "text": [
      "Average calories by mfr:  mfr\n",
      "G    109.230769\n",
      "K    110.000000\n",
      "P    110.000000\n",
      "Q    120.000000\n",
      "R    104.000000\n",
      "Name: calories, dtype: float64\n",
      "Highest average calories:  Q\n"
     ]
    }
   ],
   "source": [
    "# 3.\tFrom the dataframe in <2.> print the average ‘calories’ by ‘mfr’  and also print the ‘mfr’ with the highest average ‘calories’\n",
    "average_calories_by_mfr = df_HighSodLowProt.groupby('mfr')['calories'].mean()\n",
    "\n",
    "\n",
    "highest_avg_calories_by_mfr = average_calories_by_mfr.idxmax()\n",
    "\n",
    "print(\"Average calories by mfr: \",average_calories_by_mfr)\n",
    "print(\"Highest average calories: \",highest_avg_calories_by_mfr)"
   ]
  },
  {
   "cell_type": "code",
   "execution_count": null,
   "metadata": {},
   "outputs": [],
   "source": []
  }
 ],
 "metadata": {
  "kernelspec": {
   "display_name": "Python 3 (ipykernel)",
   "language": "python",
   "name": "python3"
  },
  "language_info": {
   "codemirror_mode": {
    "name": "ipython",
    "version": 3
   },
   "file_extension": ".py",
   "mimetype": "text/x-python",
   "name": "python",
   "nbconvert_exporter": "python",
   "pygments_lexer": "ipython3",
   "version": "3.10.0"
  }
 },
 "nbformat": 4,
 "nbformat_minor": 1
}

{
 "cells": [
  {
   "cell_type": "code",
   "execution_count": 1,
   "id": "c50bf016",
   "metadata": {},
   "outputs": [],
   "source": [
    "import pandas as pd\n",
    "import numpy as np\n",
    "import matplotlib.pyplot as plt\n",
    "import seaborn as sns"
   ]
  },
  {
   "cell_type": "code",
   "execution_count": 2,
   "id": "3ab9b67e",
   "metadata": {},
   "outputs": [
    {
     "data": {
      "text/html": [
       "<div>\n",
       "<style scoped>\n",
       "    .dataframe tbody tr th:only-of-type {\n",
       "        vertical-align: middle;\n",
       "    }\n",
       "\n",
       "    .dataframe tbody tr th {\n",
       "        vertical-align: top;\n",
       "    }\n",
       "\n",
       "    .dataframe thead th {\n",
       "        text-align: right;\n",
       "    }\n",
       "</style>\n",
       "<table border=\"1\" class=\"dataframe\">\n",
       "  <thead>\n",
       "    <tr style=\"text-align: right;\">\n",
       "      <th></th>\n",
       "      <th>Area</th>\n",
       "      <th>BHK</th>\n",
       "      <th>Bathroom</th>\n",
       "      <th>Furnishing</th>\n",
       "      <th>Parking</th>\n",
       "      <th>Price</th>\n",
       "      <th>Status</th>\n",
       "      <th>Transaction</th>\n",
       "      <th>Type</th>\n",
       "    </tr>\n",
       "  </thead>\n",
       "  <tbody>\n",
       "    <tr>\n",
       "      <th>0</th>\n",
       "      <td>800.0</td>\n",
       "      <td>3</td>\n",
       "      <td>2.0</td>\n",
       "      <td>Semi-Furnished</td>\n",
       "      <td>1.0</td>\n",
       "      <td>6500000</td>\n",
       "      <td>Ready_to_move</td>\n",
       "      <td>New_Property</td>\n",
       "      <td>Builder_Floor</td>\n",
       "    </tr>\n",
       "    <tr>\n",
       "      <th>1</th>\n",
       "      <td>750.0</td>\n",
       "      <td>2</td>\n",
       "      <td>2.0</td>\n",
       "      <td>Semi-Furnished</td>\n",
       "      <td>1.0</td>\n",
       "      <td>5000000</td>\n",
       "      <td>Ready_to_move</td>\n",
       "      <td>New_Property</td>\n",
       "      <td>Apartment</td>\n",
       "    </tr>\n",
       "    <tr>\n",
       "      <th>2</th>\n",
       "      <td>950.0</td>\n",
       "      <td>2</td>\n",
       "      <td>2.0</td>\n",
       "      <td>Furnished</td>\n",
       "      <td>1.0</td>\n",
       "      <td>15500000</td>\n",
       "      <td>Ready_to_move</td>\n",
       "      <td>Resale</td>\n",
       "      <td>Apartment</td>\n",
       "    </tr>\n",
       "    <tr>\n",
       "      <th>3</th>\n",
       "      <td>600.0</td>\n",
       "      <td>2</td>\n",
       "      <td>2.0</td>\n",
       "      <td>Semi-Furnished</td>\n",
       "      <td>1.0</td>\n",
       "      <td>4200000</td>\n",
       "      <td>Ready_to_move</td>\n",
       "      <td>Resale</td>\n",
       "      <td>Builder_Floor</td>\n",
       "    </tr>\n",
       "    <tr>\n",
       "      <th>4</th>\n",
       "      <td>650.0</td>\n",
       "      <td>2</td>\n",
       "      <td>2.0</td>\n",
       "      <td>Semi-Furnished</td>\n",
       "      <td>1.0</td>\n",
       "      <td>6200000</td>\n",
       "      <td>Ready_to_move</td>\n",
       "      <td>New_Property</td>\n",
       "      <td>Builder_Floor</td>\n",
       "    </tr>\n",
       "  </tbody>\n",
       "</table>\n",
       "</div>"
      ],
      "text/plain": [
       "    Area  BHK  Bathroom      Furnishing  Parking     Price         Status  \\\n",
       "0  800.0    3       2.0  Semi-Furnished      1.0   6500000  Ready_to_move   \n",
       "1  750.0    2       2.0  Semi-Furnished      1.0   5000000  Ready_to_move   \n",
       "2  950.0    2       2.0       Furnished      1.0  15500000  Ready_to_move   \n",
       "3  600.0    2       2.0  Semi-Furnished      1.0   4200000  Ready_to_move   \n",
       "4  650.0    2       2.0  Semi-Furnished      1.0   6200000  Ready_to_move   \n",
       "\n",
       "    Transaction           Type  \n",
       "0  New_Property  Builder_Floor  \n",
       "1  New_Property      Apartment  \n",
       "2        Resale      Apartment  \n",
       "3        Resale  Builder_Floor  \n",
       "4  New_Property  Builder_Floor  "
      ]
     },
     "execution_count": 2,
     "metadata": {},
     "output_type": "execute_result"
    }
   ],
   "source": [
    "data = pd.read_csv('Dataset_Day6.csv')\n",
    "data.head()"
   ]
  },
  {
   "cell_type": "code",
   "execution_count": 3,
   "id": "e7ba5efa",
   "metadata": {},
   "outputs": [
    {
     "name": "stdout",
     "output_type": "stream",
     "text": [
      "<class 'pandas.core.frame.DataFrame'>\n",
      "RangeIndex: 1259 entries, 0 to 1258\n",
      "Data columns (total 9 columns):\n",
      " #   Column       Non-Null Count  Dtype  \n",
      "---  ------       --------------  -----  \n",
      " 0   Area         1259 non-null   float64\n",
      " 1   BHK          1259 non-null   int64  \n",
      " 2   Bathroom     1257 non-null   float64\n",
      " 3   Furnishing   1254 non-null   object \n",
      " 4   Parking      1226 non-null   float64\n",
      " 5   Price        1259 non-null   int64  \n",
      " 6   Status       1259 non-null   object \n",
      " 7   Transaction  1259 non-null   object \n",
      " 8   Type         1254 non-null   object \n",
      "dtypes: float64(3), int64(2), object(4)\n",
      "memory usage: 88.6+ KB\n"
     ]
    }
   ],
   "source": [
    "data.info()"
   ]
  },
  {
   "cell_type": "code",
   "execution_count": 4,
   "id": "53bf0876",
   "metadata": {},
   "outputs": [
    {
     "name": "stdout",
     "output_type": "stream",
     "text": [
      "Area            0\n",
      "BHK             0\n",
      "Bathroom        2\n",
      "Furnishing      5\n",
      "Parking        33\n",
      "Price           0\n",
      "Status          0\n",
      "Transaction     0\n",
      "Type            5\n",
      "dtype: int64\n"
     ]
    }
   ],
   "source": [
    "# Check for missing values\n",
    "missing_values = data.isna().sum()\n",
    "print(missing_values)"
   ]
  },
  {
   "cell_type": "code",
   "execution_count": 5,
   "id": "59726d90",
   "metadata": {},
   "outputs": [
    {
     "data": {
      "text/plain": [
       "Area           0\n",
       "BHK            0\n",
       "Bathroom       0\n",
       "Furnishing     0\n",
       "Parking        0\n",
       "Price          0\n",
       "Status         0\n",
       "Transaction    0\n",
       "Type           0\n",
       "dtype: int64"
      ]
     },
     "execution_count": 5,
     "metadata": {},
     "output_type": "execute_result"
    }
   ],
   "source": [
    "data['Bathroom'].fillna(data['Bathroom'].median(),inplace=True)\n",
    "\n",
    "data['Furnishing'].fillna(data['Furnishing'].mode()[0],inplace=True)\n",
    "data['Parking'].fillna(data['Parking'].median(),inplace=True)\n",
    "\n",
    "data['Type'].fillna(data['Type'].mode()[0],inplace=True)\n",
    "data.isna().sum()"
   ]
  },
  {
   "cell_type": "code",
   "execution_count": 6,
   "id": "d152865a",
   "metadata": {},
   "outputs": [
    {
     "name": "stdout",
     "output_type": "stream",
     "text": [
      "1155\n"
     ]
    }
   ],
   "source": [
    "\n",
    "Q1 = data['Price'].quantile(0.25)\n",
    "Q3 = data['Price'].quantile(0.75)\n",
    "IQR = Q3 - Q1\n",
    "\n",
    "\n",
    "data = data[(data['Price'] >= Q1 - 1.5 * IQR) & (data['Price'] <= Q3 + 1.5 * IQR)]\n",
    "print(len(data))\n",
    "\n"
   ]
  },
  {
   "cell_type": "code",
   "execution_count": 8,
   "id": "1903a27d",
   "metadata": {},
   "outputs": [
    {
     "name": "stdout",
     "output_type": "stream",
     "text": [
      "Encoded Dataset:\n",
      "         Area  Bathroom  Parking     Price  BHK_1  BHK_10  BHK_2  BHK_3  \\\n",
      "0       800.0       2.0      1.0   6500000  False   False  False   True   \n",
      "1       750.0       2.0      1.0   5000000  False   False   True  False   \n",
      "2       950.0       2.0      1.0  15500000  False   False   True  False   \n",
      "3       600.0       2.0      1.0   4200000  False   False   True  False   \n",
      "4       650.0       2.0      1.0   6200000  False   False   True  False   \n",
      "...       ...       ...      ...       ...    ...     ...    ...    ...   \n",
      "1254   4118.0       5.0      3.0  55000000  False   False  False  False   \n",
      "1255   1050.0       2.0      3.0  12500000  False   False  False   True   \n",
      "1256    875.0       3.0      3.0  17500000  False   False  False   True   \n",
      "1257    990.0       2.0      1.0  11500000  False   False   True  False   \n",
      "1258  11050.0       3.0      1.0  18500000  False   False  False   True   \n",
      "\n",
      "      BHK_4  BHK_5  ...  BHK_7  Furnishing_Furnished  \\\n",
      "0     False  False  ...  False                 False   \n",
      "1     False  False  ...  False                 False   \n",
      "2     False  False  ...  False                  True   \n",
      "3     False  False  ...  False                 False   \n",
      "4     False  False  ...  False                 False   \n",
      "...     ...    ...  ...    ...                   ...   \n",
      "1254   True  False  ...  False                 False   \n",
      "1255  False  False  ...  False                 False   \n",
      "1256  False  False  ...  False                 False   \n",
      "1257  False  False  ...  False                 False   \n",
      "1258  False  False  ...  False                 False   \n",
      "\n",
      "      Furnishing_Semi-Furnished  Furnishing_Unfurnished  Status_Almost_ready  \\\n",
      "0                          True                   False                False   \n",
      "1                          True                   False                False   \n",
      "2                         False                   False                False   \n",
      "3                          True                   False                False   \n",
      "4                          True                   False                False   \n",
      "...                         ...                     ...                  ...   \n",
      "1254                      False                    True                False   \n",
      "1255                       True                   False                False   \n",
      "1256                       True                   False                False   \n",
      "1257                      False                    True                False   \n",
      "1258                      False                    True                False   \n",
      "\n",
      "      Status_Ready_to_move  Transaction_New_Property  Transaction_Resale  \\\n",
      "0                     True                      True               False   \n",
      "1                     True                      True               False   \n",
      "2                     True                     False                True   \n",
      "3                     True                     False                True   \n",
      "4                     True                      True               False   \n",
      "...                    ...                       ...                 ...   \n",
      "1254                  True                      True               False   \n",
      "1255                  True                     False                True   \n",
      "1256                  True                      True               False   \n",
      "1257                  True                     False                True   \n",
      "1258                  True                      True               False   \n",
      "\n",
      "      Type_Apartment  Type_Builder_Floor  \n",
      "0              False                True  \n",
      "1               True               False  \n",
      "2               True               False  \n",
      "3              False                True  \n",
      "4              False                True  \n",
      "...              ...                 ...  \n",
      "1254           False                True  \n",
      "1255           False                True  \n",
      "1256           False                True  \n",
      "1257           False                True  \n",
      "1258           False                True  \n",
      "\n",
      "[1155 rows x 21 columns]\n"
     ]
    }
   ],
   "source": [
    "data['BHK']=data['BHK'].astype(str)\n",
    "data['BHK']=data['BHK'].astype(str)\n",
    "data['BHK']=data['BHK'].astype(str)\n",
    "data=pd.get_dummies(data)\n",
    "print('Encoded Dataset:')\n",
    "print(data)"
   ]
  },
  {
   "cell_type": "code",
   "execution_count": 12,
   "id": "4e0409f2",
   "metadata": {},
   "outputs": [
    {
     "name": "stdout",
     "output_type": "stream",
     "text": [
      "Model Performance Metrics:\n",
      "R2 Score: 0.5127155908467746\n",
      "Adjusted R2 Score: 0.4663075518798008\n",
      "Mean Absolute Error (MAE): 7173683.981807511\n"
     ]
    }
   ],
   "source": [
    "import pandas as pd\n",
    "from sklearn.model_selection import train_test_split\n",
    "from sklearn.linear_model import LinearRegression\n",
    "from sklearn.metrics import r2_score, mean_absolute_error\n",
    "from sklearn.preprocessing import OneHotEncoder\n",
    "\n",
    "\n",
    "\n",
    "X = data.drop('Price', axis=1)  \n",
    "y = data['Price']  \n",
    "X_train, X_test, y_train, y_test = train_test_split(X, y, test_size=0.2, random_state=50)\n",
    "\n",
    "\n",
    "model = LinearRegression()\n",
    "\n",
    "\n",
    "model.fit(X_train, y_train)\n",
    "\n",
    "\n",
    "y_pred = model.predict(X_test)\n",
    "\n",
    "\n",
    "r2 = r2_score(y_test, y_pred)\n",
    "adjusted_r2 = 1 - (1 - r2) * (len(y_test) - 1) / (len(y_test) - X_test.shape[1] - 1)\n",
    "mae = mean_absolute_error(y_test, y_pred)\n",
    "\n",
    "\n",
    "print(\"Model Performance Metrics:\")\n",
    "print(\"R2 Score:\", r2)\n",
    "print(\"Adjusted R2 Score:\", adjusted_r2)\n",
    "print(\"Mean Absolute Error (MAE):\", mae)\n"
   ]
  },
  {
   "cell_type": "code",
   "execution_count": 14,
   "id": "10aa3eb5",
   "metadata": {},
   "outputs": [
    {
     "name": "stdout",
     "output_type": "stream",
     "text": [
      "Ridge Regression Model Performance Metrics:\n",
      "R2 Score: 0.5112909759838202\n",
      "Adjusted R2 Score: 0.4647472594108507\n",
      "Mean Absolute Error (MAE): 7177213.899675919\n"
     ]
    }
   ],
   "source": [
    "import pandas as pd\n",
    "from sklearn.model_selection import train_test_split\n",
    "from sklearn.linear_model import Ridge\n",
    "from sklearn.metrics import r2_score, mean_absolute_error\n",
    "from sklearn.preprocessing import OneHotEncoder\n",
    "\n",
    "\n",
    "# Split the data into training and testing sets\n",
    "X = data.drop('Price', axis=1)  # Features\n",
    "y = data['Price']  # Target variable\n",
    "X_train, X_test, y_train, y_test = train_test_split(X, y, test_size=0.2, random_state=50)\n",
    "\n",
    "# Create the Ridge regression model\n",
    "ridge_model = Ridge()\n",
    "\n",
    "# Fit the model to the training data\n",
    "ridge_model.fit(X_train, y_train)\n",
    "\n",
    "# Make predictions on the testing data\n",
    "y_pred = ridge_model.predict(X_test)\n",
    "\n",
    "# Calculate the model performance metrics for Ridge Regression\n",
    "r2 = r2_score(y_test, y_pred)\n",
    "adjusted_r2 = 1 - (1 - r2) * (len(y_test) - 1) / (len(y_test) - X_test.shape[1] - 1)\n",
    "mae = mean_absolute_error(y_test, y_pred)\n",
    "\n",
    "# Print the model performance metrics for Ridge Regression\n",
    "print(\"Ridge Regression Model Performance Metrics:\")\n",
    "print(\"R2 Score:\", r2)\n",
    "print(\"Adjusted R2 Score:\", adjusted_r2)\n",
    "print(\"Mean Absolute Error (MAE):\", mae)\n"
   ]
  },
  {
   "cell_type": "code",
   "execution_count": 15,
   "id": "b37e5aa8",
   "metadata": {},
   "outputs": [
    {
     "name": "stdout",
     "output_type": "stream",
     "text": [
      "Lasso Regression Model Performance Metrics:\n",
      "R2 Score: 0.5127153725313313\n",
      "Adjusted R2 Score: 0.46630731277241044\n",
      "Mean Absolute Error (MAE): 7173684.511250141\n"
     ]
    },
    {
     "name": "stderr",
     "output_type": "stream",
     "text": [
      "C:\\Users\\hp\\OneDrive\\Documents\\lib\\site-packages\\sklearn\\linear_model\\_coordinate_descent.py:647: ConvergenceWarning: Objective did not converge. You might want to increase the number of iterations, check the scale of the features or consider increasing regularisation. Duality gap: 1.082e+15, tolerance: 1.412e+13\n",
      "  model = cd_fast.enet_coordinate_descent(\n"
     ]
    }
   ],
   "source": [
    "import pandas as pd\n",
    "from sklearn.model_selection import train_test_split\n",
    "from sklearn.linear_model import Lasso\n",
    "from sklearn.metrics import r2_score, mean_absolute_error\n",
    "from sklearn.preprocessing import OneHotEncoder\n",
    "\n",
    "\n",
    "# Split the data into training and testing sets\n",
    "X = data.drop('Price', axis=1)  # Features\n",
    "y = data['Price']  # Target variable\n",
    "X_train, X_test, y_train, y_test = train_test_split(X, y, test_size=0.2, random_state=50)\n",
    "\n",
    "# Create the Lasso regression model\n",
    "lasso_model = Lasso()\n",
    "\n",
    "# Fit the model to the training data\n",
    "lasso_model.fit(X_train, y_train)\n",
    "\n",
    "# Make predictions on the testing data\n",
    "y_pred = lasso_model.predict(X_test)\n",
    "\n",
    "# Calculate the model performance metrics for Lasso Regression\n",
    "r2 = r2_score(y_test, y_pred)\n",
    "adjusted_r2 = 1 - (1 - r2) * (len(y_test) - 1) / (len(y_test) - X_test.shape[1] - 1)\n",
    "mae = mean_absolute_error(y_test, y_pred)\n",
    "\n",
    "# Print the model performance metrics for Lasso Regression\n",
    "print(\"Lasso Regression Model Performance Metrics:\")\n",
    "print(\"R2 Score:\", r2)\n",
    "print(\"Adjusted R2 Score:\", adjusted_r2)\n",
    "print(\"Mean Absolute Error (MAE):\", mae)\n"
   ]
  },
  {
   "cell_type": "code",
   "execution_count": null,
   "id": "8544f2fc",
   "metadata": {},
   "outputs": [],
   "source": []
  }
 ],
 "metadata": {
  "kernelspec": {
   "display_name": "Python 3 (ipykernel)",
   "language": "python",
   "name": "python3"
  },
  "language_info": {
   "codemirror_mode": {
    "name": "ipython",
    "version": 3
   },
   "file_extension": ".py",
   "mimetype": "text/x-python",
   "name": "python",
   "nbconvert_exporter": "python",
   "pygments_lexer": "ipython3",
   "version": "3.10.0"
  }
 },
 "nbformat": 4,
 "nbformat_minor": 5
}
